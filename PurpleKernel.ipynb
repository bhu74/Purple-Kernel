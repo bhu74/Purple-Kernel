{
 "cells": [
  {
   "cell_type": "code",
   "execution_count": 1,
   "metadata": {},
   "outputs": [],
   "source": [
    "import numpy as np\n",
    "import pandas as pd\n",
    "import cv2\n",
    "from matplotlib import pyplot as plt"
   ]
  },
  {
   "cell_type": "code",
   "execution_count": 2,
   "metadata": {},
   "outputs": [],
   "source": [
    "def resize_img(image):\n",
    "    ht = int(image.shape[0]*0.15)\n",
    "    wd = int(image.shape[1]*0.15)\n",
    "    image_rs = cv2.resize(image, (wd,ht))\n",
    "    return image_rs"
   ]
  },
  {
   "cell_type": "code",
   "execution_count": 49,
   "metadata": {},
   "outputs": [],
   "source": [
    "def getCircles(imagebw):\n",
    "    height,width = imagebw.shape\n",
    "    mask = np.zeros((height,width), np.uint8)\n",
    "    edges = cv2.Canny(imagebw, 100, 200)\n",
    "    circles = cv2.HoughCircles(edges, cv2.HOUGH_GRADIENT, 1, 10000, param1 = 50, param2 = 30, minRadius = 0, maxRadius = 0)\n",
    "    return(mask, circles)"
   ]
  },
  {
   "cell_type": "code",
   "execution_count": 94,
   "metadata": {},
   "outputs": [],
   "source": [
    "def drawContours(img, contours, heir):\n",
    "    drawing = np.zeros((img.shape[0], img.shape[1], img.shape[2]))\n",
    "    for i in range(len(contours)):\n",
    "        x,y,w,h = cv2.boundingRect(contours[i])\n",
    "        cnt_area = cv2.contourArea(contours[i], False)\n",
    "        color_contours = (0, 100, 250)\n",
    "        cv2.drawContours(drawing, contours, i, color_contours, 1, 8, heir,2)\n",
    "    return(drawing)"
   ]
  },
  {
   "cell_type": "code",
   "execution_count": 51,
   "metadata": {},
   "outputs": [],
   "source": [
    "img = cv2.imread('Seeds3.jpeg')\n",
    "img = resize_img(img)\n",
    "imgbw = cv2.cvtColor(img, cv2.COLOR_BGR2GRAY)\n",
    "i24 = cv2.imread('Seeds3_24.jpeg')\n",
    "i24 = resize_img(i24)\n",
    "i24bw = cv2.cvtColor(i24, cv2.COLOR_BGR2GRAY)"
   ]
  },
  {
   "cell_type": "code",
   "execution_count": 52,
   "metadata": {},
   "outputs": [],
   "source": [
    "mask0, circles0 = getCircles(imgbw)\n",
    "mask1, circles1 = getCircles(i24bw)\n",
    "\n",
    "if circles0 is not None:\n",
    "    for i in circles0[0,:]:\n",
    "        cv2.circle(mask0,(i[0],i[1]),i[2],(255,255,255),thickness=-1)\n",
    "imgcr1 = img\n",
    "masked_data0 = cv2.bitwise_and(imgcr1, imgcr1, mask=mask0)\n",
    "\n",
    "if circles1 is not None:\n",
    "    for i in circles1[0,:]:\n",
    "        cv2.circle(mask1,(i[0],i[1]),i[2],(255,255,255),thickness=-1)\n",
    "imgcr2 = i24\n",
    "masked_data1 = cv2.bitwise_and(imgcr2, imgcr2, mask=mask1)"
   ]
  },
  {
   "cell_type": "code",
   "execution_count": 95,
   "metadata": {},
   "outputs": [],
   "source": [
    "hsv = cv2.cvtColor(masked_data0, cv2.COLOR_BGR2HSV)\n",
    "lower_red = np.array([11,55,143])\n",
    "upper_red = np.array([31,148,223])\n",
    "mask1 = cv2.inRange(hsv, lower_red, upper_red)\n",
    "\n",
    "_,contours0, heir0 = cv2.findContours(mask1, cv2.RETR_EXTERNAL, cv2.CHAIN_APPROX_SIMPLE)\n",
    "drawing0 = drawContours(masked_data0, contours0, heir0)"
   ]
  },
  {
   "cell_type": "code",
   "execution_count": 103,
   "metadata": {},
   "outputs": [],
   "source": [
    "hsv = cv2.cvtColor(masked_data1, cv2.COLOR_BGR2HSV)\n",
    "lower_yel = np.array([11,55,143])\n",
    "upper_yel = np.array([31,148,250])\n",
    "mask21 = cv2.inRange(hsv, lower_yel, upper_yel)\n",
    "#hsv = cv2.cvtColor(masked_data1, cv2.COLOR_BGR2HSV)\n",
    "lower_purp = np.array([8,50,20])\n",
    "upper_purp = np.array([30,180,170])\n",
    "mask22 = cv2.inRange(hsv, lower_purp, upper_purp)\n",
    "\n",
    "mask2 = mask21 + mask22\n",
    "\n",
    "output_img = masked_data1.copy()\n",
    "output_img[np.where(mask2==0)] = 150\n",
    "\n",
    "_,contours1, heir1 = cv2.findContours(mask2, cv2.RETR_EXTERNAL, cv2.CHAIN_APPROX_SIMPLE)\n",
    "drawing1 = drawContours(masked_data1, contours1, heir1)"
   ]
  },
  {
   "cell_type": "code",
   "execution_count": 101,
   "metadata": {},
   "outputs": [
    {
     "data": {
      "text/plain": [
       "True"
      ]
     },
     "execution_count": 101,
     "metadata": {},
     "output_type": "execute_result"
    }
   ],
   "source": [
    "cv2.imwrite('Seed1-Ext.png', output_img0)"
   ]
  },
  {
   "cell_type": "code",
   "execution_count": 99,
   "metadata": {},
   "outputs": [],
   "source": [
    "output_img0 = masked_data0.copy()\n",
    "output_img0[np.where(mask1==0)] = 0\n"
   ]
  },
  {
   "cell_type": "code",
   "execution_count": 104,
   "metadata": {},
   "outputs": [],
   "source": [
    "cv2.imshow('Mask', mask1)\n",
    "cv2.imshow('Extract', output_img)\n",
    "cv2.imshow('Contour1', drawing1)\n",
    "cv2.waitKey(0)\n",
    "cv2.destroyAllWindows()"
   ]
  },
  {
   "cell_type": "code",
   "execution_count": 105,
   "metadata": {},
   "outputs": [
    {
     "data": {
      "text/plain": [
       "True"
      ]
     },
     "execution_count": 105,
     "metadata": {},
     "output_type": "execute_result"
    }
   ],
   "source": [
    "cv2.imwrite('Contour1.png', drawing1)\n",
    "cv2.imwrite('Mask1.png', mask2)\n",
    "cv2.imwrite('EXtract1.png', output_img)"
   ]
  }
 ],
 "metadata": {
  "kernelspec": {
   "display_name": "Python 3 (ipykernel)",
   "language": "python",
   "name": "python3"
  },
  "language_info": {
   "codemirror_mode": {
    "name": "ipython",
    "version": 3
   },
   "file_extension": ".py",
   "mimetype": "text/x-python",
   "name": "python",
   "nbconvert_exporter": "python",
   "pygments_lexer": "ipython3",
   "version": "3.8.5"
  }
 },
 "nbformat": 4,
 "nbformat_minor": 2
}
